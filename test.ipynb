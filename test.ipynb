{
 "cells": [
  {
   "cell_type": "code",
   "execution_count": 1,
   "metadata": {},
   "outputs": [],
   "source": [
    "import random\n",
    "import numpy as np"
   ]
  },
  {
   "cell_type": "code",
   "execution_count": 2,
   "metadata": {},
   "outputs": [
    {
     "data": {
      "text/plain": [
       "array([[8, 2, 8, 1, 5, 4, 0, 6]])"
      ]
     },
     "execution_count": 2,
     "metadata": {},
     "output_type": "execute_result"
    }
   ],
   "source": [
    "arr1 = np.random.randint(0, 10, size=(1, 8))\n",
    "arr1"
   ]
  },
  {
   "cell_type": "code",
   "execution_count": 3,
   "metadata": {},
   "outputs": [
    {
     "data": {
      "text/plain": [
       "1"
      ]
     },
     "execution_count": 3,
     "metadata": {},
     "output_type": "execute_result"
    }
   ],
   "source": [
    "len(arr1)"
   ]
  },
  {
   "cell_type": "code",
   "execution_count": 4,
   "metadata": {},
   "outputs": [
    {
     "data": {
      "text/plain": [
       "8"
      ]
     },
     "execution_count": 4,
     "metadata": {},
     "output_type": "execute_result"
    }
   ],
   "source": [
    "lis = [1, 2, 3, 4, 5, 6, 7, 8]\n",
    "len(lis)"
   ]
  },
  {
   "cell_type": "code",
   "execution_count": 5,
   "metadata": {},
   "outputs": [
    {
     "data": {
      "text/plain": [
       "array([1.        , 1.88888889, 2.77777778, 3.66666667, 4.55555556,\n",
       "       5.44444444, 6.33333333, 7.22222222, 8.11111111, 9.        ])"
      ]
     },
     "execution_count": 5,
     "metadata": {},
     "output_type": "execute_result"
    }
   ],
   "source": [
    "np.linspace(1, 9, 10)"
   ]
  },
  {
   "cell_type": "code",
   "execution_count": 6,
   "metadata": {},
   "outputs": [
    {
     "data": {
      "text/plain": [
       "array([0, 2, 4, 6, 8])"
      ]
     },
     "execution_count": 6,
     "metadata": {},
     "output_type": "execute_result"
    }
   ],
   "source": [
    "np.arange(0, 10, 2)"
   ]
  },
  {
   "cell_type": "code",
   "execution_count": 7,
   "metadata": {},
   "outputs": [
    {
     "name": "stdout",
     "output_type": "stream",
     "text": [
      "asd\n"
     ]
    }
   ],
   "source": [
    "iput = input()"
   ]
  },
  {
   "cell_type": "code",
   "execution_count": 8,
   "metadata": {},
   "outputs": [],
   "source": [
    "lis = iput.split(' ')"
   ]
  },
  {
   "cell_type": "code",
   "execution_count": 9,
   "metadata": {},
   "outputs": [
    {
     "data": {
      "text/plain": [
       "['asd']"
      ]
     },
     "execution_count": 9,
     "metadata": {},
     "output_type": "execute_result"
    }
   ],
   "source": [
    "lis"
   ]
  },
  {
   "cell_type": "code",
   "execution_count": 10,
   "metadata": {},
   "outputs": [
    {
     "data": {
      "text/plain": [
       "'asd'"
      ]
     },
     "execution_count": 10,
     "metadata": {},
     "output_type": "execute_result"
    }
   ],
   "source": [
    "lis[-1]"
   ]
  },
  {
   "cell_type": "code",
   "execution_count": 11,
   "metadata": {},
   "outputs": [
    {
     "ename": "ValueError",
     "evalue": "'L' is not in list",
     "output_type": "error",
     "traceback": [
      "\u001b[1;31m---------------------------------------------------------------------------\u001b[0m",
      "\u001b[1;31mValueError\u001b[0m                                Traceback (most recent call last)",
      "\u001b[1;32m<ipython-input-11-893fdd491081>\u001b[0m in \u001b[0;36m<module>\u001b[1;34m\u001b[0m\n\u001b[1;32m----> 1\u001b[1;33m \u001b[0mlis\u001b[0m\u001b[1;33m.\u001b[0m\u001b[0mindex\u001b[0m\u001b[1;33m(\u001b[0m\u001b[1;34m'L'\u001b[0m\u001b[1;33m)\u001b[0m\u001b[1;33m\u001b[0m\u001b[1;33m\u001b[0m\u001b[0m\n\u001b[0m",
      "\u001b[1;31mValueError\u001b[0m: 'L' is not in list"
     ]
    }
   ],
   "source": [
    "lis.index('L')"
   ]
  },
  {
   "cell_type": "code",
   "execution_count": null,
   "metadata": {},
   "outputs": [],
   "source": [
    "lis[11]"
   ]
  },
  {
   "cell_type": "code",
   "execution_count": null,
   "metadata": {},
   "outputs": [],
   "source": [
    "lis = [int(x) for x in lis]"
   ]
  },
  {
   "cell_type": "code",
   "execution_count": null,
   "metadata": {},
   "outputs": [],
   "source": [
    "lis"
   ]
  },
  {
   "cell_type": "code",
   "execution_count": null,
   "metadata": {},
   "outputs": [],
   "source": [
    "lis.remove(5)"
   ]
  },
  {
   "cell_type": "code",
   "execution_count": null,
   "metadata": {},
   "outputs": [],
   "source": [
    "lis"
   ]
  },
  {
   "cell_type": "code",
   "execution_count": null,
   "metadata": {},
   "outputs": [],
   "source": [
    "lis = ['A', 'B', 'C']\n",
    "\n",
    "class Node:\n",
    "    def __init__(self, val = None):\n",
    "        self.valu = val\n",
    "        self.left = None\n",
    "        self.right = None\n",
    "    \n",
    "    def value(self, mode, root):\n",
    "        exec(\"root.{} = 100\" .format(mode))\n",
    "        print(root.left)\n",
    "        \n",
    "node = Node()\n",
    "node.value('left', node)\n",
    "\n",
    "for item in lis:\n",
    "    exec(\"{} = Node(1000)\" .format(item))\n",
    "    \n",
    "for item in lis:\n",
    "    exec(\"print({}.valu)\" .format(item))"
   ]
  },
  {
   "cell_type": "code",
   "execution_count": null,
   "metadata": {},
   "outputs": [],
   "source": [
    "print(\"{0} = {0} but not {1}\" .format(0, 1))"
   ]
  },
  {
   "cell_type": "code",
   "execution_count": null,
   "metadata": {},
   "outputs": [],
   "source": [
    "lis = ['A', 'B', 'C', 'D', 'E', 'F', 'G', 'H', 'I', 'J', 'K', 'L']\n",
    "lisTwo = ['B', 'A', 'D', 'C', 'E', 'L', 'G', 'F', 'K', 'H', 'J', 'I']\n",
    "\n",
    "maxIndex = 0\n",
    "\n",
    "for item in lis:\n",
    "    if lisTwo.index(item) > maxIndex:\n",
    "        maxIndex = lisTwo.index(item)\n",
    "lisTwo[maxIndex]"
   ]
  },
  {
   "cell_type": "code",
   "execution_count": null,
   "metadata": {},
   "outputs": [],
   "source": [
    "lis.append('F')"
   ]
  },
  {
   "cell_type": "code",
   "execution_count": null,
   "metadata": {},
   "outputs": [],
   "source": [
    "print(lis)\n",
    "lis.remove('F')\n",
    "lis"
   ]
  },
  {
   "cell_type": "code",
   "execution_count": null,
   "metadata": {},
   "outputs": [],
   "source": [
    "D E B F C A\n",
    "D B E A F C"
   ]
  },
  {
   "cell_type": "code",
   "execution_count": null,
   "metadata": {},
   "outputs": [],
   "source": [
    "PostOrder = input(\"\\nEnter Post Order : \")\n",
    "InOrder = input(\"\\nEnter In Order : \")\n",
    "\n",
    "PostOrder = PostOrder.split(' ')\n",
    "InOrder = InOrder.split(' ')"
   ]
  },
  {
   "cell_type": "code",
   "execution_count": null,
   "metadata": {},
   "outputs": [],
   "source": [
    "# Construct tree from inorder and post order\n",
    "\n",
    "class Node:\n",
    "    def __init__(self, val = None):\n",
    "        self.value = val\n",
    "        self.left = None\n",
    "        self.right = None\n",
    "\n",
    "class BinaryTree:\n",
    "    def __init__(self):\n",
    "        self.root = None\n",
    "    \n",
    "    def PreOrder(self, node):\n",
    "        if node:\n",
    "            #temp = None\n",
    "            print(exec(\"{}.{}\" .format(node, 'value')))\n",
    "            #print(f\"{temp} -> \", end=\"\")\n",
    "            self.PreOrder(node.left)\n",
    "            self.PreOrder(node.right)\n",
    "\n",
    "    def ConsTree(self, lis, PostOrder, root, mode):\n",
    "        maxIndex = 0\n",
    "\n",
    "        for item in lis:\n",
    "            if PostOrder.index(item) > maxIndex:\n",
    "                maxIndex = PostOrder.index(item)\n",
    "        \n",
    "        exec(\"{}.{} = {}\" .format(root, mode, PostOrder[maxIndex]))\n",
    "        print(\"main : \", PostOrder[maxIndex])\n",
    "        \n",
    "        try:\n",
    "            lefty = lis[0:lis.index(PostOrder[maxIndex])]\n",
    "            print(\"leftty : \", lefty)\n",
    "        except:\n",
    "            lefty = []\n",
    "        \n",
    "        try:\n",
    "            righty = lis[lis.index(PostOrder[maxIndex])+1:]\n",
    "            print(\"righty : \", righty)\n",
    "        except:\n",
    "            righty = []\n",
    "\n",
    "        if len(lefty) == 1:\n",
    "            exec(\"{}.left = lefty[0]\" .format(PostOrder[maxIndex]))\n",
    "            print(\"left : \", lefty[0])\n",
    "        elif len(lefty) > 1:\n",
    "            self.ConsTree(lefty, PostOrder, PostOrder[maxIndex], 'left')\n",
    "        else:\n",
    "            pass\n",
    "\n",
    "        if len(righty) == 1:\n",
    "            exec(\"{}.left = righty[0]\" .format(PostOrder[maxIndex]))\n",
    "            print(\"right : \", righty[0])\n",
    "        elif len(righty) > 1:\n",
    "            self.ConsTree(righty, PostOrder, PostOrder[maxIndex], 'right')\n",
    "        else:\n",
    "            pass\n",
    "\n",
    "\n",
    "\n",
    "if __name__ == \"__main__\":\n",
    "    bt = BinaryTree()\n",
    "    \n",
    "    PostOrder = input(\"\\nEnter Post Order : \")\n",
    "    InOrder = input(\"\\nEnter In Order : \")\n",
    "\n",
    "    PostOrder = PostOrder.split(' ')\n",
    "    InOrder = InOrder.split(' ')\n",
    "\n",
    "    PostOrder = ['D', 'E', 'B',  'F',  'C',  'A']\n",
    "    InOrder = ['D', 'B', 'E', 'A', 'F', 'C']\n",
    "\n",
    "    for item in PostOrder:\n",
    "        exec(\"{0} = Node(item)\" .format(item))\n",
    "    \n",
    "    root = PostOrder[-1]\n",
    "    left = InOrder[0:InOrder.index(root)]\n",
    "    print(\"left list : \", left)\n",
    "    \n",
    "    try:\n",
    "        right = InOrder[InOrder.index(root)+1:]\n",
    "        print(\"right : \", right)\n",
    "    except:\n",
    "        right = []\n",
    "\n",
    "    bt.ConsTree(left, PostOrder, root, 'left')\n",
    "    bt.ConsTree(right, PostOrder, root, 'right')\n",
    "\n",
    "    #exec(\"bt.PreOrder({})\" .format(root))"
   ]
  },
  {
   "cell_type": "code",
   "execution_count": null,
   "metadata": {},
   "outputs": [],
   "source": [
    "numArr = np.zeros([3, 3])\n",
    "numArr"
   ]
  },
  {
   "cell_type": "code",
   "execution_count": null,
   "metadata": {},
   "outputs": [],
   "source": [
    "numArr[2][2] =1\n",
    "numArr"
   ]
  },
  {
   "cell_type": "code",
   "execution_count": null,
   "metadata": {},
   "outputs": [],
   "source": [
    "int(1.)"
   ]
  },
  {
   "cell_type": "code",
   "execution_count": null,
   "metadata": {},
   "outputs": [],
   "source": [
    "lis = [1, 2, 3, 4]"
   ]
  },
  {
   "cell_type": "code",
   "execution_count": null,
   "metadata": {},
   "outputs": [],
   "source": [
    "lis.pop(2)"
   ]
  },
  {
   "cell_type": "code",
   "execution_count": null,
   "metadata": {},
   "outputs": [],
   "source": [
    "lis"
   ]
  },
  {
   "cell_type": "code",
   "execution_count": null,
   "metadata": {},
   "outputs": [],
   "source": [
    "# breadth first search traversal\n",
    "import numpy as np\n",
    "\n",
    "if __name__ == \"__main__\":\n",
    "    numNode = int(input(\"\\nEnter Number Of Nodes : \"))\n",
    "    nodeArr = np.zeros([numNode, numNode])\n",
    "\n",
    "    queue = []\n",
    "    res = []\n",
    "\n",
    "    def ConnectNode():\n",
    "        first = int(input(\"\\nEnter first Node : \"))\n",
    "        second = int(input(\"Enter Second Node : \"))\n",
    "        \n",
    "        nodeArr[first][second] = 1\n",
    "        print(\"\\nNode Connected!\")\n",
    "\n",
    "    def BFS(node, queue, res):\n",
    "        #queue.append(node)\n",
    "\n",
    "        for i in range(0, numNode):\n",
    "            if int(nodeArr[node][i]) == 1 and nodeArr[node][i] not in queue:\n",
    "                queue.append(nodeArr[node][i])\n",
    "        \n",
    "        res.append(queue.pop(0))\n",
    "        print(res)\n",
    "        BFS(queue[0], queue, res)\n",
    "\n",
    "    queue.append(0)\n",
    "\n",
    "    while True:\n",
    "        choice = int(input(\"\\n1. Connect\\n2. BFS\\nChoice : \"))\n",
    "        \n",
    "        if choice is 1:\n",
    "            ConnectNode()\n",
    "        elif choice is 2:\n",
    "            print(nodeArr)\n",
    "            BFS(0, queue, res)\n",
    "            print(res)\n",
    "\n",
    "    \n"
   ]
  },
  {
   "cell_type": "code",
   "execution_count": 25,
   "metadata": {},
   "outputs": [
    {
     "data": {
      "text/plain": [
       "{1: ['A', 'C'], 2: 'B'}"
      ]
     },
     "execution_count": 25,
     "metadata": {},
     "output_type": "execute_result"
    }
   ],
   "source": [
    "dic = {1:['A', 'C'], 2:'B'}\n",
    "dic"
   ]
  },
  {
   "cell_type": "code",
   "execution_count": 26,
   "metadata": {},
   "outputs": [
    {
     "name": "stdout",
     "output_type": "stream",
     "text": [
      "1 ['A', 'C']\n",
      "2 B\n"
     ]
    }
   ],
   "source": [
    "for i, j in dic.items():\n",
    "    print(i, j)"
   ]
  },
  {
   "cell_type": "code",
   "execution_count": 27,
   "metadata": {},
   "outputs": [
    {
     "data": {
      "text/plain": [
       "1"
      ]
     },
     "execution_count": 27,
     "metadata": {},
     "output_type": "execute_result"
    }
   ],
   "source": [
    "list(dic.keys())[0]"
   ]
  },
  {
   "cell_type": "code",
   "execution_count": 28,
   "metadata": {},
   "outputs": [
    {
     "name": "stdout",
     "output_type": "stream",
     "text": [
      "A\n",
      "C\n"
     ]
    }
   ],
   "source": [
    "for i in dic[1]:\n",
    "    print(i)"
   ]
  },
  {
   "cell_type": "code",
   "execution_count": 29,
   "metadata": {},
   "outputs": [
    {
     "data": {
      "text/plain": [
       "[1, 2, 3, 4, 5, 6, 7, 8]"
      ]
     },
     "execution_count": 29,
     "metadata": {},
     "output_type": "execute_result"
    }
   ],
   "source": [
    "lis = [1, 2, 3, 4, 5, 6, 7, 8]\n",
    "lis"
   ]
  },
  {
   "cell_type": "code",
   "execution_count": 30,
   "metadata": {},
   "outputs": [
    {
     "data": {
      "text/plain": [
       "8"
      ]
     },
     "execution_count": 30,
     "metadata": {},
     "output_type": "execute_result"
    }
   ],
   "source": [
    "lis.pop(-1)"
   ]
  },
  {
   "cell_type": "code",
   "execution_count": 1,
   "metadata": {},
   "outputs": [
    {
     "data": {
      "text/plain": [
       "{'A': [('A', 'C', 3)],\n",
       " 'B': [('B', 'C', 10), ('B', 'D', 4)],\n",
       " 'C': [('A', 'C', 3), ('B', 'C', 10), ('C', 'D', 2), ('C', 'E', 6)],\n",
       " 'D': [('C', 'D', 2), ('D', 'E', 1)],\n",
       " 'E': [('C', 'E', 6), ('D', 'E', 1)]}"
      ]
     },
     "execution_count": 1,
     "metadata": {},
     "output_type": "execute_result"
    }
   ],
   "source": [
    "graph = {'A' : [('A', 'C', 3)], 'B' : [('B', 'C', 10), ('B', 'D', 4)], 'C' : [('A', 'C', 3), ('B', 'C', 10), ('C', 'D', 2), ('C', 'E', 6)], 'D' : [('C', 'D', 2), ('D', 'E', 1)], 'E' : [('C', 'E', 6), ('D', 'E', 1)]}\n",
    "graph"
   ]
  },
  {
   "cell_type": "code",
   "execution_count": 4,
   "metadata": {},
   "outputs": [
    {
     "name": "stdout",
     "output_type": "stream",
     "text": [
      "('A', 'C', 3)\n",
      "('B', 'C', 10)\n",
      "('B', 'D', 4)\n",
      "('A', 'C', 3)\n",
      "('B', 'C', 10)\n",
      "('C', 'D', 2)\n",
      "('C', 'E', 6)\n",
      "('C', 'D', 2)\n",
      "('D', 'E', 1)\n",
      "('C', 'E', 6)\n",
      "('D', 'E', 1)\n"
     ]
    }
   ],
   "source": [
    "for sets in graph.values():\n",
    "    for item in sets:\n",
    "        print(item)"
   ]
  },
  {
   "cell_type": "code",
   "execution_count": 5,
   "metadata": {},
   "outputs": [
    {
     "name": "stdout",
     "output_type": "stream",
     "text": [
      "[1, 2, 3, 4] [1, 2, 3, 4]\n"
     ]
    }
   ],
   "source": [
    "lis = [1, 2, 3, 4]\n",
    "listemp = lis.copy()\n",
    "print(lis, listemp)"
   ]
  },
  {
   "cell_type": "code",
   "execution_count": 6,
   "metadata": {},
   "outputs": [
    {
     "data": {
      "text/plain": [
       "[2, 3, 4]"
      ]
     },
     "execution_count": 6,
     "metadata": {},
     "output_type": "execute_result"
    }
   ],
   "source": [
    "listemp.pop(0)\n",
    "listemp"
   ]
  },
  {
   "cell_type": "code",
   "execution_count": 7,
   "metadata": {},
   "outputs": [
    {
     "data": {
      "text/plain": [
       "[1, 2, 3, 4]"
      ]
     },
     "execution_count": 7,
     "metadata": {},
     "output_type": "execute_result"
    }
   ],
   "source": [
    "lis"
   ]
  },
  {
   "cell_type": "code",
   "execution_count": 1,
   "metadata": {},
   "outputs": [],
   "source": [
    "dic = {1 : [1, 2, 3, 4], 2 : [2, 3, 4, 5]}"
   ]
  },
  {
   "cell_type": "code",
   "execution_count": 2,
   "metadata": {},
   "outputs": [
    {
     "data": {
      "text/plain": [
       "{1: [1, 2, 3, 4], 2: [2, 3, 4, 5]}"
      ]
     },
     "execution_count": 2,
     "metadata": {},
     "output_type": "execute_result"
    }
   ],
   "source": [
    "dic"
   ]
  },
  {
   "cell_type": "code",
   "execution_count": 3,
   "metadata": {},
   "outputs": [
    {
     "data": {
      "text/plain": [
       "2"
      ]
     },
     "execution_count": 3,
     "metadata": {},
     "output_type": "execute_result"
    }
   ],
   "source": [
    "len(dic)"
   ]
  },
  {
   "cell_type": "code",
   "execution_count": 2,
   "metadata": {},
   "outputs": [
    {
     "data": {
      "text/plain": [
       "9"
      ]
     },
     "execution_count": 2,
     "metadata": {},
     "output_type": "execute_result"
    }
   ],
   "source": [
    "random.randint(0, 10)"
   ]
  },
  {
   "cell_type": "code",
   "execution_count": 3,
   "metadata": {},
   "outputs": [
    {
     "data": {
      "text/plain": [
       "['A', 'B', 'C', 'D', 'E', 'I', 'J', 'X', 'Z']"
      ]
     },
     "execution_count": 3,
     "metadata": {},
     "output_type": "execute_result"
    }
   ],
   "source": [
    "lis = ['A', 'B', 'C', 'E', 'D', 'Z', 'X', 'I', 'J']\n",
    "lis.sort()\n",
    "lis"
   ]
  },
  {
   "cell_type": "code",
   "execution_count": 6,
   "metadata": {},
   "outputs": [
    {
     "name": "stdout",
     "output_type": "stream",
     "text": [
      "\n",
      "Enter Name : Mihir\n"
     ]
    }
   ],
   "source": [
    "lis = ['Anjali', 'Aman', 'Mihir', 'Sweta', 'Mayur', 'Kiki', 'Chand', 'Abhik']\n",
    "lis.sort()\n",
    "name = input(\"\\nEnter Name : \")"
   ]
  },
  {
   "cell_type": "code",
   "execution_count": 4,
   "metadata": {},
   "outputs": [],
   "source": [
    "def BinarySearch(begin, end, num):\n",
    "    if begin >= end:\n",
    "        print(\"\\nnumber Not found!\")\n",
    "    elif num > lis[int((begin+end)/2)]:\n",
    "        begin = int((begin+end)/2) + 1\n",
    "        print(f\"\\nbegin : {begin}\\nEnd : {end}\")\n",
    "        BinarySearch(begin, end, num)\n",
    "\n",
    "    elif num < lis[int((begin+end)/2)]:\n",
    "        end = int((begin+end)/2) - 1\n",
    "        print(f\"\\nbegin : {begin}\\nEnd : {end}\")\n",
    "        BinarySearch(begin, end, num)\n",
    "\n",
    "    elif num == lis[int((begin+end)/2)]:\n",
    "        print(f\"\\nbegin : {begin}\\nEnd : {end}\")\n",
    "        print(\"\\nNumber Found\")"
   ]
  },
  {
   "cell_type": "code",
   "execution_count": 7,
   "metadata": {},
   "outputs": [
    {
     "name": "stdout",
     "output_type": "stream",
     "text": [
      "\n",
      "begin : 4\n",
      "End : 7\n",
      "\n",
      "begin : 6\n",
      "End : 7\n",
      "\n",
      "begin : 6\n",
      "End : 7\n",
      "\n",
      "Number Found\n"
     ]
    }
   ],
   "source": [
    "BinarySearch(0, 7, name)"
   ]
  },
  {
   "cell_type": "code",
   "execution_count": 9,
   "metadata": {},
   "outputs": [
    {
     "data": {
      "text/plain": [
       "0"
      ]
     },
     "execution_count": 9,
     "metadata": {},
     "output_type": "execute_result"
    }
   ],
   "source": [
    "int((0+1)/2)"
   ]
  },
  {
   "cell_type": "code",
   "execution_count": 10,
   "metadata": {},
   "outputs": [
    {
     "data": {
      "text/plain": [
       "['Abhik', 'Aman', 'Anjali', 'Chand', 'Kiki', 'Mayur', 'Mihir', 'Sweta']"
      ]
     },
     "execution_count": 10,
     "metadata": {},
     "output_type": "execute_result"
    }
   ],
   "source": [
    "lis"
   ]
  },
  {
   "cell_type": "code",
   "execution_count": 13,
   "metadata": {},
   "outputs": [
    {
     "data": {
      "text/plain": [
       "['Abhik', 'Aman', 'Anjali', 'Chand', 'Kiki', 'Mayur', 'Mihir', 'Sweta']"
      ]
     },
     "execution_count": 13,
     "metadata": {},
     "output_type": "execute_result"
    }
   ],
   "source": [
    "sorted(lis)"
   ]
  },
  {
   "cell_type": "code",
   "execution_count": 21,
   "metadata": {},
   "outputs": [],
   "source": [
    "lis = ['Anjali', 'Aman', 'Mihir', 'Sweta', 'Mayur', 'Kiki', 'Chand', 'Abhik']\n",
    "lis2 = [1, 2, 3]"
   ]
  },
  {
   "cell_type": "code",
   "execution_count": 22,
   "metadata": {},
   "outputs": [
    {
     "data": {
      "text/plain": [
       "['Anjali',\n",
       " 'Aman',\n",
       " 1,\n",
       " 2,\n",
       " 3,\n",
       " 'Mihir',\n",
       " 'Sweta',\n",
       " 'Mayur',\n",
       " 'Kiki',\n",
       " 'Chand',\n",
       " 'Abhik']"
      ]
     },
     "execution_count": 22,
     "metadata": {},
     "output_type": "execute_result"
    }
   ],
   "source": [
    "lis[2:2] = lis2\n",
    "lis"
   ]
  },
  {
   "cell_type": "code",
   "execution_count": 20,
   "metadata": {},
   "outputs": [
    {
     "data": {
      "text/plain": [
       "['Abhik',\n",
       " 'Aman',\n",
       " <generator object <genexpr> at 0x0000015D913E3518>,\n",
       " [1, 2, 3],\n",
       " 'Anjali',\n",
       " 'Chand',\n",
       " 'Kiki',\n",
       " 'Mayur',\n",
       " 'Mihir',\n",
       " 'Sweta']"
      ]
     },
     "execution_count": 20,
     "metadata": {},
     "output_type": "execute_result"
    }
   ],
   "source": [
    "lis"
   ]
  },
  {
   "cell_type": "code",
   "execution_count": 23,
   "metadata": {},
   "outputs": [
    {
     "data": {
      "text/plain": [
       "2"
      ]
     },
     "execution_count": 23,
     "metadata": {},
     "output_type": "execute_result"
    }
   ],
   "source": [
    "lis3 = [1, 2]\n",
    "lis3.pop(0)\n",
    "lis3.pop(0)"
   ]
  },
  {
   "cell_type": "code",
   "execution_count": 24,
   "metadata": {},
   "outputs": [
    {
     "data": {
      "text/plain": [
       "[]"
      ]
     },
     "execution_count": 24,
     "metadata": {},
     "output_type": "execute_result"
    }
   ],
   "source": [
    "lis3"
   ]
  },
  {
   "cell_type": "code",
   "execution_count": 25,
   "metadata": {},
   "outputs": [],
   "source": [
    "lis[2:2] = lis3"
   ]
  },
  {
   "cell_type": "code",
   "execution_count": 26,
   "metadata": {},
   "outputs": [
    {
     "data": {
      "text/plain": [
       "['Anjali',\n",
       " 'Aman',\n",
       " 1,\n",
       " 2,\n",
       " 3,\n",
       " 'Mihir',\n",
       " 'Sweta',\n",
       " 'Mayur',\n",
       " 'Kiki',\n",
       " 'Chand',\n",
       " 'Abhik']"
      ]
     },
     "execution_count": 26,
     "metadata": {},
     "output_type": "execute_result"
    }
   ],
   "source": [
    "lis"
   ]
  },
  {
   "cell_type": "code",
   "execution_count": null,
   "metadata": {},
   "outputs": [],
   "source": []
  }
 ],
 "metadata": {
  "kernelspec": {
   "display_name": "Python 3",
   "language": "python",
   "name": "python3"
  },
  "language_info": {
   "codemirror_mode": {
    "name": "ipython",
    "version": 3
   },
   "file_extension": ".py",
   "mimetype": "text/x-python",
   "name": "python",
   "nbconvert_exporter": "python",
   "pygments_lexer": "ipython3",
   "version": "3.6.8"
  }
 },
 "nbformat": 4,
 "nbformat_minor": 2
}
